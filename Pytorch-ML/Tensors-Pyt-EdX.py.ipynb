{
 "cells": [
  {
   "cell_type": "code",
   "execution_count": 34,
   "metadata": {},
   "outputs": [
    {
     "name": "stdout",
     "output_type": "stream",
     "text": [
      "type of tensor: torch.FloatTensor\n",
      "size of tensor torch.Size([5])\n",
      "datatype of tensor: torch.float32\n",
      "Dimensions of tensor: 1\n",
      "\n",
      "np_array: [0 1 2 3 4 5] torch_tensor: tensor([0, 1, 2, 3, 4, 5])\n",
      "Torch_tensor to np_array: [0 1 2 3 4 5]\n",
      "\n",
      "pandas series 0    0\n",
      "1    1\n",
      "2    2\n",
      "3    3\n",
      "4    4\n",
      "5    5\n",
      "dtype: int64 torch_tensor: tensor([0, 1, 2, 3, 4, 5])\n",
      "\n",
      "Indexing & slicing\n",
      "tensor([10., 20., 30., 40.])\n",
      "tensor([50., 20., 30., 40.])\n",
      "tensor([30., 40.])\n"
     ]
    }
   ],
   "source": [
    "# Code for Tensors intro from EdX tensors course\n",
    "\n",
    "import torch\n",
    "import numpy as np\n",
    "import pandas as pd\n",
    "\n",
    "a = torch.Tensor([1,2,3,4,5])\n",
    "\n",
    "print(\"type of tensor:\",a.type())\n",
    "print(\"size of tensor\",a.size())\n",
    "print(\"datatype of tensor:\",a.dtype)\n",
    "print(\"Dimensions of tensor:\", a.ndimension())\n",
    "print(\"\")\n",
    "\n",
    "\n",
    "#numpy <-> Pytorch\n",
    "\n",
    "np_array = np.array([0,1,2,3,4,5])\n",
    "torch_tensor = torch.from_numpy(np_array)\n",
    "print (\"np_array:\",np_array,\"torch_tensor:\",torch_tensor)\n",
    "back_2_np_array = torch_tensor.numpy()\n",
    "print(\"Torch_tensor to np_array:\",back_2_np_array)\n",
    "print(\"\")\n",
    "\n",
    "#pandas <-> Pytorch\n",
    "pandas_series = pd.Series([0,1,2,3,4,5])\n",
    "pd_2_torch = torch.from_numpy(pandas_series.values)\n",
    "print(\"pandas series\",pandas_series,\"torch_tensor:\", pd_2_torch)\n",
    "print(\"\")\n",
    "\n",
    "print (\"Indexing & slicing\")\n",
    "\n",
    "c = torch.Tensor([10,20,30,40])\n",
    "print(c)\n",
    "c[0] = 50\n",
    "print(c)\n",
    "d = c[2:5]\n",
    "print(d)\n",
    "\n",
    "\n",
    "#c = torch.zeros([3,3], dtype=torch.int32)\n",
    "#print(c)"
   ]
  },
  {
   "cell_type": "code",
   "execution_count": null,
   "metadata": {},
   "outputs": [],
   "source": []
  }
 ],
 "metadata": {
  "kernelspec": {
   "display_name": "Python 3",
   "language": "python",
   "name": "python3"
  },
  "language_info": {
   "codemirror_mode": {
    "name": "ipython",
    "version": 3
   },
   "file_extension": ".py",
   "mimetype": "text/x-python",
   "name": "python",
   "nbconvert_exporter": "python",
   "pygments_lexer": "ipython3",
   "version": "3.5.2"
  }
 },
 "nbformat": 4,
 "nbformat_minor": 2
}
