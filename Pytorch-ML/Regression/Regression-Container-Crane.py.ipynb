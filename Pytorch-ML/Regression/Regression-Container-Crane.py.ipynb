{
 "cells": [
  {
   "cell_type": "code",
   "execution_count": 35,
   "metadata": {},
   "outputs": [
    {
     "name": "stdout",
     "output_type": "stream",
     "text": [
      "   Speed  Angle  Power\n",
      "0      1     -5    0.3\n",
      "1      2      5    0.3\n",
      "2      3     -2    0.5\n",
      "3      1      2    0.5\n",
      "4      2      0    0.7\n"
     ]
    }
   ],
   "source": [
    "import pandas as pd\n",
    "import numpy as np\n",
    "\n",
    "#Import the dataset into an object and output the head\n",
    "#Save dataset in an object, makes it more scalable\n",
    "\n",
    "#crane =pd.read_csv(\"/home/basic/Documents/Machine-learning/Pytorch-ML/Regression/Container_Crane_Controller_Data_Set.csv\", sep=';')\n",
    "crane_dataset = \"/home/basic/Documents/Machine-learning/Pytorch-ML/Regression/Container_Crane_Controller_Data_Set.csv\"\n",
    "crane=pd.read_csv(crane_dataset,sep=';',decimal=',')\n",
    "print(crane.head())\n",
    "\n",
    "#saving the attributes in python lists\n",
    "crane_speed = crane['Speed']\n",
    "crane_angle = crane['Angle']\n",
    "crane_power = crane['Power']\n",
    "crane_speed = crane_speed.tolist()\n",
    "crane_angle = crane_angle.tolist()\n",
    "crane_power = crane_power.tolist()\n",
    "\n",
    "\n"
   ]
  },
  {
   "cell_type": "code",
   "execution_count": null,
   "metadata": {},
   "outputs": [],
   "source": []
  }
 ],
 "metadata": {
  "kernelspec": {
   "display_name": "Python 3",
   "language": "python",
   "name": "python3"
  },
  "language_info": {
   "codemirror_mode": {
    "name": "ipython",
    "version": 3
   },
   "file_extension": ".py",
   "mimetype": "text/x-python",
   "name": "python",
   "nbconvert_exporter": "python",
   "pygments_lexer": "ipython3",
   "version": "3.5.2"
  }
 },
 "nbformat": 4,
 "nbformat_minor": 2
}
