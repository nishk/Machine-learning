{
 "cells": [
  {
   "cell_type": "code",
   "execution_count": 1,
   "metadata": {},
   "outputs": [
    {
     "name": "stdout",
     "output_type": "stream",
     "text": [
      "tensor(17., grad_fn=<AddBackward0>)\n",
      "dy/dw: tensor(3.)\n",
      "dy/db: tensor(1.)\n",
      "tensor([[-0.3943, -0.2075,  0.9475],\n",
      "        [ 1.1214,  1.4151,  1.6941]], requires_grad=True) tensor([-0.9314, -1.2132], requires_grad=True)\n",
      "tensor([[ 59.3336,  72.4600],\n",
      "        [ 88.2297, 103.8043],\n",
      "        [101.5065, 122.3687],\n",
      "        [ 35.0473,  50.8791],\n",
      "        [104.0649, 116.2579]], grad_fn=<AddBackward0>)\n",
      "tensor([[ 56.,  70.],\n",
      "        [ 81., 101.],\n",
      "        [119., 133.],\n",
      "        [ 22.,  37.],\n",
      "        [103., 119.]])\n"
     ]
    }
   ],
   "source": [
    "# insert weblink\n",
    "# Simple linear regression in Pytorch\n",
    "\n",
    "import numpy as np\n",
    "import torch\n",
    "\n",
    "x = torch.tensor(3.)\n",
    "w = torch.tensor(4.,requires_grad=True)\n",
    "b = torch.tensor(5.,requires_grad=True)\n",
    "\n",
    "y = w*x + b\n",
    "y.backward()\n",
    "#print(y)\n",
    "#print('dy/dw:', w.grad)\n",
    "#print('dy/db:',b.grad)\n",
    "#print('dy/dx:',x.grad)\n",
    "\n",
    "#yeild_apple = w11*temp + w12*rainfall + w13*humidity +b1\n",
    "#yeild_orange = w21*temp + w22*rainfall + w33*humidity +b2\n",
    "\n",
    "inputs = np.array([[73,67,43],[91,88,64],[87,134,58],[102,43,37],[69,96,70]],dtype='float32')\n",
    "targets= np.array([[56,70],[81,101],[119,133],[22,37],[103,119]],dtype='float32')\n",
    "\n",
    "inputs =torch.from_numpy(inputs)\n",
    "targets=torch.from_numpy(targets)\n",
    "#print(inputs)\n",
    "#print(targets)\n",
    "\n",
    "w= torch.randn(2,3,requires_grad=True)\n",
    "b= torch.randn(2,requires_grad=True)\n",
    "#print(w,b)\n",
    "\n",
    "def model(x):\n",
    "    return x @ w.t() + b\n",
    "\n",
    "def mse(m1,m2):\n",
    "    diff = m1-m2\n",
    "    return torch.sum((diff*diff)/diff.numel())\n",
    "\n",
    "preds =model(inputs)\n",
    "loss =mse(preds,targets)\n",
    "loss.backward()\n",
    "#print(\"w:\",w)\n",
    "#print(\"w.grad:\",w.grad)\n",
    "\n",
    "#print(\"b:\",b)\n",
    "#print(\"b.grad:\",b.grad)\n",
    "\n",
    "#print(loss)\n",
    "#print(preds)\n",
    "#print(targets)\n",
    "\n",
    "for i in range(100):\n",
    "    preds =model(inputs)\n",
    "    loss=mse(preds,targets)\n",
    "    loss.backward()\n",
    "    with torch.no_grad():\n",
    "        w -= w.grad * 1e-5\n",
    "        b -= b.grad * 1e-5\n",
    "        w.grad.zero_()\n",
    "        b.grad.zero_()\n",
    "preds =model(inputs)\n",
    "loss=mse(preds,targets)\n",
    "#print(loss)\n",
    "print(preds)\n",
    "print(targets)"
   ]
  },
  {
   "cell_type": "code",
   "execution_count": null,
   "metadata": {},
   "outputs": [],
   "source": []
  }
 ],
 "metadata": {
  "kernelspec": {
   "display_name": "Python 3",
   "language": "python",
   "name": "python3"
  },
  "language_info": {
   "codemirror_mode": {
    "name": "ipython",
    "version": 3
   },
   "file_extension": ".py",
   "mimetype": "text/x-python",
   "name": "python",
   "nbconvert_exporter": "python",
   "pygments_lexer": "ipython3",
   "version": "3.5.2"
  }
 },
 "nbformat": 4,
 "nbformat_minor": 2
}
