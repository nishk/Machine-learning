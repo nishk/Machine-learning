{
 "cells": [
  {
   "cell_type": "code",
   "execution_count": 1,
   "metadata": {},
   "outputs": [
    {
     "name": "stdout",
     "output_type": "stream",
     "text": [
      "tensor([[ 73.,  67.,  43.],\n",
      "        [ 91.,  88.,  64.],\n",
      "        [ 87., 134.,  58.],\n",
      "        [102.,  43.,  37.],\n",
      "        [ 69.,  96.,  70.],\n",
      "        [ 73.,  67.,  43.],\n",
      "        [ 91.,  88.,  64.],\n",
      "        [ 87., 134.,  58.],\n",
      "        [102.,  43.,  37.],\n",
      "        [ 69.,  96.,  70.],\n",
      "        [ 73.,  67.,  43.],\n",
      "        [ 91.,  88.,  64.],\n",
      "        [ 87., 134.,  58.],\n",
      "        [102.,  43.,  37.],\n",
      "        [ 69.,  96.,  70.]])\n",
      "torch.Size([15, 3])\n",
      "torch.Size([15, 2])\n"
     ]
    }
   ],
   "source": [
    "#Linear regression using PyTorch built-ins\n",
    "#Source - https://aakashns.medium.com/linear-regression-with-pytorch-3dde91d60b50\n",
    "\n",
    "import torch\n",
    "import torch.nn as nn\n",
    "import numpy as np\n",
    "\n",
    "# Input (temp, rainfall, humidity)\n",
    "inputs = np.array([[73, 67, 43], [91, 88, 64], [87, 134, 58], \n",
    "                   [102, 43, 37], [69, 96, 70], [73, 67, 43], \n",
    "                   [91, 88, 64], [87, 134, 58], [102, 43, 37], \n",
    "                   [69, 96, 70], [73, 67, 43], [91, 88, 64], \n",
    "                   [87, 134, 58], [102, 43, 37], [69, 96, 70]], \n",
    "                  dtype='float32')\n",
    "\n",
    "# Targets (apples, oranges)\n",
    "targets = np.array([[56, 70], [81, 101], [119, 133], \n",
    "                    [22, 37], [103, 119], [56, 70], \n",
    "                    [81, 101], [119, 133], [22, 37], \n",
    "                    [103, 119], [56, 70], [81, 101], \n",
    "                    [119, 133], [22, 37], [103, 119]], \n",
    "                   dtype='float32')\n",
    "\n",
    "inputs = torch.from_numpy(inputs)\n",
    "targets = torch.from_numpy(targets)\n",
    "\n",
    "print(inputs)\n",
    "print(inputs.shape)\n",
    "print(targets.shape)"
   ]
  },
  {
   "cell_type": "code",
   "execution_count": 51,
   "metadata": {},
   "outputs": [
    {
     "data": {
      "text/plain": [
       "(tensor([[ 73.,  67.,  43.],\n",
       "         [ 91.,  88.,  64.],\n",
       "         [ 87., 134.,  58.]]),\n",
       " tensor([[ 56.,  70.],\n",
       "         [ 81., 101.],\n",
       "         [119., 133.]]))"
      ]
     },
     "execution_count": 51,
     "metadata": {},
     "output_type": "execute_result"
    }
   ],
   "source": [
    "#Define and setup the dataset using pytorch inbuilt functions\n",
    "\n",
    "from torch.utils.data import TensorDataset\n",
    "\n",
    "train_ds = TensorDataset(inputs,targets)\n",
    "train_ds[0:3]"
   ]
  },
  {
   "cell_type": "code",
   "execution_count": 52,
   "metadata": {},
   "outputs": [
    {
     "name": "stdout",
     "output_type": "stream",
     "text": [
      "tensor([[102.,  43.,  37.],\n",
      "        [102.,  43.,  37.],\n",
      "        [ 69.,  96.,  70.],\n",
      "        [ 91.,  88.,  64.],\n",
      "        [ 73.,  67.,  43.]])\n",
      "tensor([[ 22.,  37.],\n",
      "        [ 22.,  37.],\n",
      "        [103., 119.],\n",
      "        [ 81., 101.],\n",
      "        [ 56.,  70.]])\n"
     ]
    }
   ],
   "source": [
    "#Define and setup the DataLoader\n",
    "\n",
    "from torch.utils.data import DataLoader\n",
    "\n",
    "batch_size = 5\n",
    "train_dl = DataLoader(train_ds, batch_size, shuffle = True)\n",
    "\n",
    "for xb,yb in train_dl:\n",
    "    print(xb)\n",
    "    print(yb)\n",
    "    break\n"
   ]
  },
  {
   "cell_type": "code",
   "execution_count": 53,
   "metadata": {},
   "outputs": [
    {
     "name": "stdout",
     "output_type": "stream",
     "text": [
      "Parameter containing:\n",
      "tensor([[0.0524, 0.0849, 0.0788],\n",
      "        [0.3405, 0.0092, 0.3851]], requires_grad=True)\n",
      "Parameter containing:\n",
      "tensor([-0.3029, -0.5692], requires_grad=True)\n",
      "tensor([[12.5988, 41.4617],\n",
      "        [16.9791, 55.8703],\n",
      "        [20.2012, 52.6207],\n",
      "        [11.6099, 48.8055],\n",
      "        [16.9770, 50.7630],\n",
      "        [12.5988, 41.4617],\n",
      "        [16.9791, 55.8703],\n",
      "        [20.2012, 52.6207],\n",
      "        [11.6099, 48.8055],\n",
      "        [16.9770, 50.7630],\n",
      "        [12.5988, 41.4617],\n",
      "        [16.9791, 55.8703],\n",
      "        [20.2012, 52.6207],\n",
      "        [11.6099, 48.8055],\n",
      "        [16.9770, 50.7630]], grad_fn=<AddmmBackward0>)\n"
     ]
    }
   ],
   "source": [
    "#Define the model for weights and bias using in-built nn.Linear which does it automatically\n",
    "model = nn.Linear(3,2)\n",
    "print(model.weight)\n",
    "print(model.bias)\n",
    "\n",
    "# Parameters\n",
    "list(model.parameters())\n",
    "\n",
    "preds = model(inputs)\n",
    "print(preds)"
   ]
  },
  {
   "cell_type": "code",
   "execution_count": 54,
   "metadata": {},
   "outputs": [
    {
     "name": "stdout",
     "output_type": "stream",
     "text": [
      "tensor(3735.9065, grad_fn=<MseLossBackward0>)\n"
     ]
    }
   ],
   "source": [
    "#Define Loss Function\n",
    "\n",
    "import torch.nn.functional as F\n",
    "\n",
    "loss_fn = F.mse_loss\n",
    "\n",
    "loss = loss_fn(model(inputs), targets)\n",
    "print(loss)\n"
   ]
  },
  {
   "cell_type": "code",
   "execution_count": 6,
   "metadata": {},
   "outputs": [],
   "source": [
    "#Define Optimizer/Algorithm - SGD (GD) & Train the model\n",
    "\n",
    "opt = torch.optim.SGD(model.parameters(), lr=1e-5)\n",
    "\n",
    "def Fit(num_epochs, model, loss_fn, opt, train_dl):\n",
    "    \n",
    "    for epoch in range(num_epochs):\n",
    "        \n",
    "        for xb,yb in train_dl:\n",
    "            \n",
    "            pred = model(xb)\n",
    "            loss = loss_fn(pred, yb)\n",
    "            loss.backward()\n",
    "            opt.step()\n",
    "            opt.zero_grad()\n",
    "        \n",
    "        if (epoch+1) % 10 ==0:\n",
    "            print('Epoch [{}/{}], Loss: {:.4f}'.format(epoch+1, num_epochs, loss.item()))\n"
   ]
  },
  {
   "cell_type": "code",
   "execution_count": 7,
   "metadata": {},
   "outputs": [
    {
     "name": "stdout",
     "output_type": "stream",
     "text": [
      "Epoch [10/200], Loss: 797.6295\n",
      "Epoch [20/200], Loss: 366.1983\n",
      "Epoch [30/200], Loss: 381.5139\n",
      "Epoch [40/200], Loss: 233.3836\n",
      "Epoch [50/200], Loss: 143.6060\n",
      "Epoch [60/200], Loss: 80.8589\n",
      "Epoch [70/200], Loss: 40.1372\n",
      "Epoch [80/200], Loss: 46.5645\n",
      "Epoch [90/200], Loss: 21.2242\n",
      "Epoch [100/200], Loss: 16.3117\n",
      "Epoch [110/200], Loss: 21.7140\n",
      "Epoch [120/200], Loss: 24.0048\n",
      "Epoch [130/200], Loss: 27.9846\n",
      "Epoch [140/200], Loss: 6.1314\n",
      "Epoch [150/200], Loss: 14.2049\n",
      "Epoch [160/200], Loss: 15.8753\n",
      "Epoch [170/200], Loss: 9.8398\n",
      "Epoch [180/200], Loss: 5.3859\n",
      "Epoch [190/200], Loss: 7.4496\n",
      "Epoch [200/200], Loss: 10.0936\n"
     ]
    }
   ],
   "source": [
    "Fit(200, model, loss_fn, opt, train_dl)"
   ]
  },
  {
   "cell_type": "code",
   "execution_count": 8,
   "metadata": {},
   "outputs": [
    {
     "name": "stdout",
     "output_type": "stream",
     "text": [
      "targets are tensor([[ 56.,  70.],\n",
      "        [ 81., 101.],\n",
      "        [119., 133.],\n",
      "        [ 22.,  37.],\n",
      "        [103., 119.],\n",
      "        [ 56.,  70.],\n",
      "        [ 81., 101.],\n",
      "        [119., 133.],\n",
      "        [ 22.,  37.],\n",
      "        [103., 119.],\n",
      "        [ 56.,  70.],\n",
      "        [ 81., 101.],\n",
      "        [119., 133.],\n",
      "        [ 22.,  37.],\n",
      "        [103., 119.]])\n",
      "predictions are tensor([[ 57.7035,  70.5767],\n",
      "        [ 80.2686,  99.1933],\n",
      "        [122.3352, 136.0088],\n",
      "        [ 23.5802,  38.6210],\n",
      "        [ 97.1482, 115.5588],\n",
      "        [ 57.7035,  70.5767],\n",
      "        [ 80.2686,  99.1933],\n",
      "        [122.3352, 136.0088],\n",
      "        [ 23.5802,  38.6210],\n",
      "        [ 97.1482, 115.5588],\n",
      "        [ 57.7035,  70.5767],\n",
      "        [ 80.2686,  99.1933],\n",
      "        [122.3352, 136.0088],\n",
      "        [ 23.5802,  38.6210],\n",
      "        [ 97.1482, 115.5588]], grad_fn=<AddmmBackward0>)\n"
     ]
    }
   ],
   "source": [
    "print(\"targets are\",targets)\n",
    "print(\"predictions are\", model(inputs))"
   ]
  },
  {
   "cell_type": "code",
   "execution_count": 9,
   "metadata": {},
   "outputs": [
    {
     "data": {
      "text/plain": [
       "tensor([[53.7185, 67.3157]], grad_fn=<AddmmBackward0>)"
      ]
     },
     "execution_count": 9,
     "metadata": {},
     "output_type": "execute_result"
    }
   ],
   "source": [
    "#Predict for a new input of Temp, Humidity, Rainfall\n",
    "\n",
    "model(torch.tensor([[75, 63, 44.0]]))"
   ]
  },
  {
   "cell_type": "code",
   "execution_count": 55,
   "metadata": {},
   "outputs": [],
   "source": [
    "class SimpleNet(nn.Module):\n",
    "    def __init__(self):\n",
    "        super(SimpleNet, self).__init__()\n",
    "        self.linear1 = nn.Linear(3,4)\n",
    "        self.act1 = nn.ReLU()\n",
    "        self.linear2 = nn.Linear(4,2)\n",
    "        \n",
    "    def forward(self, x):\n",
    "        x = self.linear1(x)\n",
    "        x = self.act1(x)\n",
    "        x = self.linear2(x)\n",
    "        return x"
   ]
  },
  {
   "cell_type": "code",
   "execution_count": 56,
   "metadata": {},
   "outputs": [],
   "source": [
    "model = SimpleNet()\n",
    "opt = torch.optim.SGD(model.parameters(), lr = 1e-5)\n",
    "loss_fn = F.mse_loss"
   ]
  },
  {
   "cell_type": "code",
   "execution_count": 57,
   "metadata": {},
   "outputs": [
    {
     "name": "stdout",
     "output_type": "stream",
     "text": [
      "Epoch [10/200], Loss: 284.5976\n",
      "Epoch [20/200], Loss: 81.7314\n",
      "Epoch [30/200], Loss: 43.0357\n",
      "Epoch [40/200], Loss: 11.3160\n",
      "Epoch [50/200], Loss: 15.3251\n",
      "Epoch [60/200], Loss: 6.3139\n",
      "Epoch [70/200], Loss: 9.7411\n",
      "Epoch [80/200], Loss: 6.0658\n",
      "Epoch [90/200], Loss: 2.7667\n",
      "Epoch [100/200], Loss: 1.5073\n",
      "Epoch [110/200], Loss: 4.8560\n",
      "Epoch [120/200], Loss: 4.5899\n",
      "Epoch [130/200], Loss: 5.5940\n",
      "Epoch [140/200], Loss: 6.7128\n",
      "Epoch [150/200], Loss: 3.8739\n",
      "Epoch [160/200], Loss: 1.4876\n",
      "Epoch [170/200], Loss: 3.1109\n",
      "Epoch [180/200], Loss: 2.6977\n",
      "Epoch [190/200], Loss: 2.2153\n",
      "Epoch [200/200], Loss: 2.7616\n"
     ]
    }
   ],
   "source": [
    "Fit(200, model, loss_fn, opt, train_dl)"
   ]
  },
  {
   "cell_type": "code",
   "execution_count": 58,
   "metadata": {},
   "outputs": [
    {
     "name": "stdout",
     "output_type": "stream",
     "text": [
      "targets are tensor([[ 56.,  70.],\n",
      "        [ 81., 101.],\n",
      "        [119., 133.],\n",
      "        [ 22.,  37.],\n",
      "        [103., 119.],\n",
      "        [ 56.,  70.],\n",
      "        [ 81., 101.],\n",
      "        [119., 133.],\n",
      "        [ 22.,  37.],\n",
      "        [103., 119.],\n",
      "        [ 56.,  70.],\n",
      "        [ 81., 101.],\n",
      "        [119., 133.],\n",
      "        [ 22.,  37.],\n",
      "        [103., 119.]])\n",
      "predictions are tensor([[ 57.0656,  70.4623],\n",
      "        [ 81.9819,  99.4725],\n",
      "        [119.2536, 135.5388],\n",
      "        [ 21.0546,  37.7418],\n",
      "        [101.4552, 116.6130],\n",
      "        [ 57.0656,  70.4623],\n",
      "        [ 81.9819,  99.4725],\n",
      "        [119.2536, 135.5388],\n",
      "        [ 21.0546,  37.7418],\n",
      "        [101.4552, 116.6130],\n",
      "        [ 57.0656,  70.4623],\n",
      "        [ 81.9819,  99.4725],\n",
      "        [119.2536, 135.5388],\n",
      "        [ 21.0546,  37.7418],\n",
      "        [101.4552, 116.6130]], grad_fn=<AddmmBackward0>)\n"
     ]
    }
   ],
   "source": [
    "print(\"targets are\",targets)\n",
    "print(\"predictions are\", model(inputs))"
   ]
  },
  {
   "cell_type": "code",
   "execution_count": null,
   "metadata": {},
   "outputs": [],
   "source": []
  }
 ],
 "metadata": {
  "kernelspec": {
   "display_name": "Python 3 (ipykernel)",
   "language": "python",
   "name": "python3"
  },
  "language_info": {
   "codemirror_mode": {
    "name": "ipython",
    "version": 3
   },
   "file_extension": ".py",
   "mimetype": "text/x-python",
   "name": "python",
   "nbconvert_exporter": "python",
   "pygments_lexer": "ipython3",
   "version": "3.9.7"
  }
 },
 "nbformat": 4,
 "nbformat_minor": 4
}
