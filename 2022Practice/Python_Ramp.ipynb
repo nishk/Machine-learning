{
 "cells": [
  {
   "cell_type": "code",
   "execution_count": 9,
   "metadata": {},
   "outputs": [
    {
     "name": "stdout",
     "output_type": "stream",
     "text": [
      "monkey is a warm blooded animal\n"
     ]
    }
   ],
   "source": [
    "#Excellent super explaination - https://www.programiz.com/python-programming/methods/built-in/super\n",
    "\n",
    "#super() builtin returns a proxy object that allows us to access methods of the base class\n",
    "\n",
    "class Mammal(object):\n",
    "    def __init__(self, mammalName):\n",
    "        print(mammalName, 'is a warm blooded animal')\n",
    "\n",
    "m1 = Mammal('monkey')"
   ]
  },
  {
   "cell_type": "code",
   "execution_count": 8,
   "metadata": {},
   "outputs": [
    {
     "name": "stdout",
     "output_type": "stream",
     "text": [
      "Dog has 4 legs\n",
      "Dog is a warm blooded animal\n"
     ]
    }
   ],
   "source": [
    "class Dog(mammal):\n",
    "    def __init__(self):\n",
    "        print('Dog has 4 legs')\n",
    "        super().__init__('Dog')\n",
    "        \n",
    "d1 = Dog()"
   ]
  },
  {
   "cell_type": "code",
   "execution_count": 10,
   "metadata": {},
   "outputs": [
    {
     "name": "stdout",
     "output_type": "stream",
     "text": [
      "Animal type: Mammal\n",
      "Mammals give birth directly\n"
     ]
    }
   ],
   "source": [
    "class animal(object):\n",
    "    def __init__(self, typeofanimal):\n",
    "        print('Animal type:', typeofanimal)\n",
    "        \n",
    "class mammal(animal):\n",
    "    def __init__(self):\n",
    "        super().__init__('Mammal')\n",
    "        print('Mammals give birth directly')\n",
    "        \n",
    "dog = mammal()"
   ]
  },
  {
   "cell_type": "code",
   "execution_count": null,
   "metadata": {},
   "outputs": [],
   "source": []
  }
 ],
 "metadata": {
  "kernelspec": {
   "display_name": "Python 3",
   "language": "python",
   "name": "python3"
  },
  "language_info": {
   "codemirror_mode": {
    "name": "ipython",
    "version": 3
   },
   "file_extension": ".py",
   "mimetype": "text/x-python",
   "name": "python",
   "nbconvert_exporter": "python",
   "pygments_lexer": "ipython3",
   "version": "3.9.0"
  }
 },
 "nbformat": 4,
 "nbformat_minor": 4
}
