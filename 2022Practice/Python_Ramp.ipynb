{
 "cells": [
  {
   "cell_type": "code",
   "execution_count": 9,
   "metadata": {},
   "outputs": [
    {
     "name": "stdout",
     "output_type": "stream",
     "text": [
      "monkey is a warm blooded animal\n"
     ]
    }
   ],
   "source": [
    "#Excellent super() explaination - https://www.programiz.com/python-programming/methods/built-in/super\n",
    "\n",
    "#super() builtin returns a proxy object that allows us to access methods of the base class\n",
    "\n",
    "class Mammal(object):\n",
    "    def __init__(self, mammalName):\n",
    "        print(mammalName, 'is a warm blooded animal')\n",
    "\n",
    "m1 = Mammal('monkey')"
   ]
  },
  {
   "cell_type": "code",
   "execution_count": 8,
   "metadata": {},
   "outputs": [
    {
     "name": "stdout",
     "output_type": "stream",
     "text": [
      "Dog has 4 legs\n",
      "Dog is a warm blooded animal\n"
     ]
    }
   ],
   "source": [
    "class Dog(mammal):\n",
    "    def __init__(self):\n",
    "        print('Dog has 4 legs')\n",
    "        super().__init__('Dog')\n",
    "        \n",
    "d1 = Dog()"
   ]
  },
  {
   "cell_type": "code",
   "execution_count": 10,
   "metadata": {},
   "outputs": [
    {
     "name": "stdout",
     "output_type": "stream",
     "text": [
      "Animal type: Mammal\n",
      "Mammals give birth directly\n"
     ]
    }
   ],
   "source": [
    "class animal(object):\n",
    "    def __init__(self, typeofanimal):\n",
    "        print('Animal type:', typeofanimal)\n",
    "        \n",
    "class mammal(animal):\n",
    "    def __init__(self):\n",
    "        super().__init__('Mammal')\n",
    "        print('Mammals give birth directly')\n",
    "        \n",
    "dog = mammal()"
   ]
  },
  {
   "cell_type": "code",
   "execution_count": 27,
   "metadata": {},
   "outputs": [
    {
     "name": "stdout",
     "output_type": "stream",
     "text": [
      "75\n",
      "red\n",
      "65\n",
      "silver\n"
     ]
    },
    {
     "ename": "AttributeError",
     "evalue": "'Car' object has no attribute 'speed'",
     "output_type": "error",
     "traceback": [
      "\u001b[0;31m---------------------------------------------------------------------------\u001b[0m",
      "\u001b[0;31mAttributeError\u001b[0m                            Traceback (most recent call last)",
      "\u001b[0;32m<ipython-input-27-089205f439f7>\u001b[0m in \u001b[0;36m<module>\u001b[0;34m\u001b[0m\n\u001b[1;32m      8\u001b[0m \u001b[0mford\u001b[0m \u001b[0;34m=\u001b[0m \u001b[0mCar\u001b[0m\u001b[0;34m(\u001b[0m\u001b[0;36m75\u001b[0m\u001b[0;34m,\u001b[0m \u001b[0;34m'red'\u001b[0m\u001b[0;34m)\u001b[0m\u001b[0;34m\u001b[0m\u001b[0;34m\u001b[0m\u001b[0m\n\u001b[1;32m      9\u001b[0m \u001b[0mkia\u001b[0m \u001b[0;34m=\u001b[0m \u001b[0mCar\u001b[0m\u001b[0;34m(\u001b[0m\u001b[0;36m65\u001b[0m\u001b[0;34m,\u001b[0m \u001b[0;34m'silver'\u001b[0m\u001b[0;34m)\u001b[0m\u001b[0;34m\u001b[0m\u001b[0;34m\u001b[0m\u001b[0m\n\u001b[0;32m---> 10\u001b[0;31m \u001b[0mprint\u001b[0m\u001b[0;34m(\u001b[0m\u001b[0mford\u001b[0m\u001b[0;34m.\u001b[0m\u001b[0mspeed\u001b[0m\u001b[0;34m)\u001b[0m\u001b[0;34m\u001b[0m\u001b[0;34m\u001b[0m\u001b[0m\n\u001b[0m\u001b[1;32m     11\u001b[0m \u001b[0mprint\u001b[0m\u001b[0;34m(\u001b[0m\u001b[0mkia\u001b[0m\u001b[0;34m.\u001b[0m\u001b[0mcolor\u001b[0m\u001b[0;34m)\u001b[0m\u001b[0;34m\u001b[0m\u001b[0;34m\u001b[0m\u001b[0m\n",
      "\u001b[0;31mAttributeError\u001b[0m: 'Car' object has no attribute 'speed'"
     ]
    }
   ],
   "source": [
    "#self & __init__\n",
    "\n",
    "class Car:\n",
    "    def __init__(self, speed, color):\n",
    "        print(speed)\n",
    "        print(color)\n",
    "\n",
    "ford = Car(75, 'red')\n",
    "kia = Car(65, 'silver')\n",
    "print(ford.speed)\n",
    "print(kia.color)"
   ]
  },
  {
   "cell_type": "code",
   "execution_count": 29,
   "metadata": {},
   "outputs": [
    {
     "name": "stdout",
     "output_type": "stream",
     "text": [
      "75\n",
      "red\n",
      "65\n",
      "silver\n",
      "75\n",
      "silver\n"
     ]
    }
   ],
   "source": [
    "class Car:\n",
    "    def __init__(self, speed, color):\n",
    "        self.speed = speed\n",
    "        self.color = color\n",
    "        print(speed)\n",
    "        print(color)\n",
    "\n",
    "ford = Car(75, 'red')\n",
    "kia = Car(65, 'silver')\n",
    "print(ford.speed)\n",
    "print(kia.color)"
   ]
  },
  {
   "cell_type": "code",
   "execution_count": 31,
   "metadata": {},
   "outputs": [
    {
     "name": "stdout",
     "output_type": "stream",
     "text": [
      "75\n",
      "red\n",
      "ford\n",
      "65\n",
      "silver\n",
      "kia\n",
      "75\n",
      "silver\n",
      "ford of color red has a top speed of 75\n"
     ]
    }
   ],
   "source": [
    "#Explaination of self - https://www.programiz.com/article/python-self-why\n",
    "\n",
    "class Car:\n",
    "    def __init__(self, speed, color, name):\n",
    "        self.speed = speed\n",
    "        self.color = color\n",
    "        self.name = name\n",
    "        print(speed)\n",
    "        print(color)\n",
    "        print(name)\n",
    "        \n",
    "    def Details(self):\n",
    "        #self.name = name\n",
    "        print(self.name, 'of color',self.color, 'has a top speed of', self.speed)\n",
    "\n",
    "c1 = Car(75, 'red', 'ford')\n",
    "c2 = Car(65, 'silver', 'kia')\n",
    "\n",
    "print(ford.speed)\n",
    "print(kia.color)\n",
    "c1.Details()"
   ]
  },
  {
   "cell_type": "code",
   "execution_count": null,
   "metadata": {},
   "outputs": [],
   "source": []
  }
 ],
 "metadata": {
  "kernelspec": {
   "display_name": "Python 3",
   "language": "python",
   "name": "python3"
  },
  "language_info": {
   "codemirror_mode": {
    "name": "ipython",
    "version": 3
   },
   "file_extension": ".py",
   "mimetype": "text/x-python",
   "name": "python",
   "nbconvert_exporter": "python",
   "pygments_lexer": "ipython3",
   "version": "3.9.0"
  }
 },
 "nbformat": 4,
 "nbformat_minor": 4
}
