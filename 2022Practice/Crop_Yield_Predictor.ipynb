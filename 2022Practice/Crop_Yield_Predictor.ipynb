{
 "cells": [
  {
   "cell_type": "code",
   "execution_count": 1,
   "metadata": {},
   "outputs": [
    {
     "name": "stdout",
     "output_type": "stream",
     "text": [
      "tensor([[ 73.,  67.,  43.],\n",
      "        [ 91.,  88.,  64.],\n",
      "        [ 87., 134.,  58.],\n",
      "        [102.,  43.,  37.],\n",
      "        [ 69.,  96.,  70.]])\n",
      "tensor([[ 56.,  70.],\n",
      "        [ 81., 101.],\n",
      "        [119., 133.],\n",
      "        [ 22.,  37.],\n",
      "        [103., 119.]])\n"
     ]
    }
   ],
   "source": [
    "#Source - https://aakashns.medium.com/linear-regression-with-pytorch-3dde91d60b50\n",
    "#Lets Understand the shit outta this\n",
    "\n",
    "import numpy as np\n",
    "import torch\n",
    "import math\n",
    "\n",
    "#Input (temp, rainfall, humidity)\n",
    "inputs = np.array([[73,67,43],[91,88,64],[87,134,58],[102,43,37],[69,96,70]],dtype='float32')\n",
    "targets = np.array([[56,70],[81,101],[119,133],[22,37],[103,119]],dtype='float32')\n",
    "\n",
    "#Conver numpy array to tensor\n",
    "inputs = torch.from_numpy(inputs)\n",
    "targets = torch.from_numpy(targets)\n",
    "print(inputs)\n",
    "print(targets)\n"
   ]
  },
  {
   "cell_type": "code",
   "execution_count": 2,
   "metadata": {},
   "outputs": [
    {
     "name": "stdout",
     "output_type": "stream",
     "text": [
      "tensor([[-0.8393, -0.4780, -0.2102],\n",
      "        [-1.2156, -1.6832,  0.2304]], requires_grad=True)\n",
      "tensor([ 0.2718, -3.5448], requires_grad=True)\n"
     ]
    }
   ],
   "source": [
    "w = torch.randn(2,3,requires_grad=True)\n",
    "b = torch.randn(2, requires_grad=True)\n",
    "print(w)\n",
    "print(b)"
   ]
  },
  {
   "cell_type": "code",
   "execution_count": 3,
   "metadata": {},
   "outputs": [],
   "source": [
    "#Define model and loss\n",
    "def model(x):\n",
    "    return x @ w.t() + b\n",
    "\n",
    "def mse(t1, t2):\n",
    "    diff = t1 - t2\n",
    "    return torch.sum(diff * diff) / diff.numel()"
   ]
  },
  {
   "cell_type": "code",
   "execution_count": 4,
   "metadata": {},
   "outputs": [
    {
     "name": "stdout",
     "output_type": "stream",
     "text": [
      "Original predictions tensor([[-102.0617, -195.1502],\n",
      "        [-131.6213, -247.5401],\n",
      "        [-148.9906, -321.4879],\n",
      "        [-113.6684, -191.3863],\n",
      "        [-118.2419, -232.8814]], grad_fn=<AddBackward0>)\n",
      "Targets are tensor([[ 56.,  70.],\n",
      "        [ 81., 101.],\n",
      "        [119., 133.],\n",
      "        [ 22.,  37.],\n",
      "        [103., 119.]])\n",
      "original loss tensor(78368.9219, grad_fn=<DivBackward0>)\n"
     ]
    }
   ],
   "source": [
    "# Generate predictions\n",
    "preds = model(inputs)\n",
    "print(\"Original predictions\", preds)\n",
    "\n",
    "# Compare with targets\n",
    "print(\"Targets are\", targets)\n",
    "\n",
    "# Compute loss\n",
    "loss = mse(preds, targets)\n",
    "print(\"original loss\", loss)"
   ]
  },
  {
   "cell_type": "code",
   "execution_count": 5,
   "metadata": {},
   "outputs": [],
   "source": [
    "# Train for 100 epochs\n",
    "for i in range(100):\n",
    "    preds = model(inputs)\n",
    "    loss = mse(preds, targets)\n",
    "    loss.backward()\n",
    "    with torch.no_grad():\n",
    "        w -= w.grad * 1e-5\n",
    "        b -= b.grad * 1e-5\n",
    "        w.grad.zero_()\n",
    "        b.grad.zero_()\n"
   ]
  },
  {
   "cell_type": "code",
   "execution_count": 6,
   "metadata": {},
   "outputs": [
    {
     "name": "stdout",
     "output_type": "stream",
     "text": [
      "tensor(126.1041, grad_fn=<DivBackward0>)\n",
      "Predictions are tensor([[ 59.9237,  73.4079],\n",
      "        [ 82.6187, 106.9663],\n",
      "        [113.3226, 113.6462],\n",
      "        [ 36.6952,  58.8803],\n",
      "        [ 93.5807, 116.6356]], grad_fn=<AddBackward0>)\n",
      "Targets are tensor([[ 56.,  70.],\n",
      "        [ 81., 101.],\n",
      "        [119., 133.],\n",
      "        [ 22.,  37.],\n",
      "        [103., 119.]])\n"
     ]
    }
   ],
   "source": [
    "#Verify loss, predictions & Targets\n",
    "preds = model(inputs)\n",
    "loss = mse(preds, targets)\n",
    "print(\"Loss is\", loss)\n",
    "print(\"Predictions are\", preds)\n",
    "print(\"Targets are\", targets)"
   ]
  },
  {
   "cell_type": "code",
   "execution_count": null,
   "metadata": {},
   "outputs": [],
   "source": []
  }
 ],
 "metadata": {
  "kernelspec": {
   "display_name": "Python 3",
   "language": "python",
   "name": "python3"
  },
  "language_info": {
   "codemirror_mode": {
    "name": "ipython",
    "version": 3
   },
   "file_extension": ".py",
   "mimetype": "text/x-python",
   "name": "python",
   "nbconvert_exporter": "python",
   "pygments_lexer": "ipython3",
   "version": "3.9.0"
  }
 },
 "nbformat": 4,
 "nbformat_minor": 4
}
