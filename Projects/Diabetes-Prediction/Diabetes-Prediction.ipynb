{
 "cells": [
  {
   "cell_type": "code",
   "execution_count": 31,
   "metadata": {
    "scrolled": true
   },
   "outputs": [
    {
     "name": "stdout",
     "output_type": "stream",
     "text": [
      "initial loss is:  tensor(0.6931, grad_fn=<MeanBackward1>)\n",
      "Trained loss is:  tensor(0.6931, grad_fn=<MeanBackward1>)\n"
     ]
    }
   ],
   "source": [
    "%reload_ext autoreload\n",
    "%autoreload 2\n",
    "%matplotlib inline\n",
    "\n",
    "import pandas as pd\n",
    "import torch.nn.functional as F\n",
    "import torch\n",
    "import matplotlib.pyplot as plt\n",
    "import numpy as np\n",
    "import torch.nn as nn\n",
    "from torch.utils.data import TensorDataset, DataLoader\n",
    "\n",
    "\n",
    "#Importing and filtering the dataset as per inputs, outputs\n",
    "#dataset = '/home/basic/Documents/Machine-learning/Projects/Diabetes-Prediction/diabetes.csv'\n",
    "dataset = '/Users/anishkirloskar/Documents/Machine-learning/Projects/Diabetes-Prediction/diabetes.csv'\n",
    "df = pd.read_csv(dataset)\n",
    "dfh = df.head()\n",
    "df_target = df.iloc[:,8:9]\n",
    "df_input = df.iloc[:,0:8]\n",
    "\n",
    "target = torch.Tensor(df_target.values)\n",
    "inputs = torch.Tensor(df_input.values)\n",
    "preds = torch.rand([768,1], requires_grad=True)\n",
    "\n",
    "\n",
    "#Define dataset\n",
    "train_ds = TensorDataset(inputs,target)\n",
    "\n",
    "#Define data loader\n",
    "batch_size = 5\n",
    "train_dl = DataLoader(train_ds,batch_size,shuffle=True)\n",
    "\n",
    "class ModelNN(torch.nn.Module):\n",
    "    \n",
    "    def __init__(self):\n",
    "        super().__init__()\n",
    "        self.l1 = nn.Linear(8,50)\n",
    "        self.l2 = nn.Linear(50,35)\n",
    "        self.l3 = nn.Linear(35,20)\n",
    "        self.l4 = nn.Linear(20,5)\n",
    "        self.l5 = nn.Linear(5,1)\n",
    "        self.sigmoid = nn.Sigmoid()\n",
    "        self.relu = nn.ReLU()\n",
    "        \n",
    "    def forward(self,x):\n",
    "        x = self.relu(self.l1(x))\n",
    "        x = self.relu(self.l2(x))\n",
    "        x = self.relu(self.l3(x))\n",
    "        x = self.relu(self.l4(x))\n",
    "        y_pred = self.relu(self.l5(x))\n",
    "        return y_pred\n",
    "\n",
    "def compute(num_epochs, model, loss_fn, opt):\n",
    "    for epoch in range(num_epochs):\n",
    "        for xi,yi in train_dl:\n",
    "            pred = model(xi)\n",
    "            loss = loss_fn(pred,yi)\n",
    "            \n",
    "            loss.backward()\n",
    "            opt.step()\n",
    "            opt.zero_grad()\n",
    "    #preds = model(inputs)\n",
    "    \n",
    "model = ModelNN()\n",
    "loss_fn = nn.BCEWithLogitsLoss()\n",
    "optimizer1 = torch.optim.Adagrad(model.parameters(), lr=0.001)\n",
    "\n",
    "print('initial loss is: ',loss_fn(model(inputs),target))\n",
    "\n",
    "compute(500,model, loss_fn,optimizer1)\n",
    "\n",
    "print('Trained loss is: ',loss_fn(model(inputs),target))\n"
   ]
  },
  {
   "cell_type": "code",
   "execution_count": 23,
   "metadata": {},
   "outputs": [
    {
     "name": "stdout",
     "output_type": "stream",
     "text": [
      "torch.Size([768, 1])\n",
      "torch.Size([768, 1])\n"
     ]
    }
   ],
   "source": [
    "print(preds.shape)\n",
    "print(target.shape)"
   ]
  },
  {
   "cell_type": "code",
   "execution_count": null,
   "metadata": {},
   "outputs": [],
   "source": []
  }
 ],
 "metadata": {
  "kernelspec": {
   "display_name": "Python 3",
   "language": "python",
   "name": "python3"
  },
  "language_info": {
   "codemirror_mode": {
    "name": "ipython",
    "version": 3
   },
   "file_extension": ".py",
   "mimetype": "text/x-python",
   "name": "python",
   "nbconvert_exporter": "python",
   "pygments_lexer": "ipython3",
   "version": "3.7.0"
  }
 },
 "nbformat": 4,
 "nbformat_minor": 2
}
