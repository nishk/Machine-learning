{
 "cells": [
  {
   "cell_type": "code",
   "execution_count": 8,
   "metadata": {},
   "outputs": [
    {
     "name": "stdout",
     "output_type": "stream",
     "text": [
      "Employee name: Aaron Sorkin\n",
      "Employee pay: 200\n",
      "Employee email: AaronSorkin@company.com\n",
      "Employee name: Harvey Specter\n",
      "Employee pay: 100\n",
      "Employee email: HarveySpecter@company.com\n"
     ]
    }
   ],
   "source": [
    "class Employee:\n",
    "    def __init__(self,first,last,pay):\n",
    "        self.first = first\n",
    "        self.last = last\n",
    "        self.pay = pay\n",
    "        self.email = self.first + self.last + '@company.com'\n",
    "\n",
    "    def Details(self):\n",
    "        print('Employee name:',self.first,self.last)\n",
    "        print('Employee pay:', self.pay)\n",
    "        print('Employee email:', self.email)\n",
    "        \n",
    "emp_1 = Employee('Aaron', 'Sorkin', 200)\n",
    "emp_1.Details()\n",
    "emp_2 = Employee('Harvey', 'Specter', 100)\n",
    "emp_2.Details()"
   ]
  },
  {
   "cell_type": "code",
   "execution_count": null,
   "metadata": {},
   "outputs": [],
   "source": []
  }
 ],
 "metadata": {
  "kernelspec": {
   "display_name": "Python 3",
   "language": "python",
   "name": "python3"
  },
  "language_info": {
   "codemirror_mode": {
    "name": "ipython",
    "version": 3
   },
   "file_extension": ".py",
   "mimetype": "text/x-python",
   "name": "python",
   "nbconvert_exporter": "python",
   "pygments_lexer": "ipython3",
   "version": "3.7.0"
  }
 },
 "nbformat": 4,
 "nbformat_minor": 2
}
